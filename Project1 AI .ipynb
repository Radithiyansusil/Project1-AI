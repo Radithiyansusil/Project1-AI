{
 "cells": [
  {
   "cell_type": "code",
   "execution_count": 2,
   "metadata": {},
   "outputs": [
    {
     "name": "stdout",
     "output_type": "stream",
     "text": [
      "['trig', 'log', 'cal', 'prob', 'stat'] [0, 1, 1, 2, 3, 5]\n"
     ]
    }
   ],
   "source": [
    "#Assigning elements to  different\n",
    "#lists\n",
    "a=['trig','log','cal','prob','stat']\n",
    "b=[0,1,1,2,3,5]\n",
    "print(a,b)"
   ]
  },
  {
   "cell_type": "code",
   "execution_count": 4,
   "metadata": {},
   "outputs": [
    {
     "name": "stdout",
     "output_type": "stream",
     "text": [
      "wave\n"
     ]
    }
   ],
   "source": [
    "#Accesing elements from a tuple\n",
    "c=('kine','motion','wave','mag','charge')\n",
    "print(c[2])"
   ]
  },
  {
   "cell_type": "code",
   "execution_count": 23,
   "metadata": {},
   "outputs": [
    {
     "name": "stdout",
     "output_type": "stream",
     "text": [
      "a app\n",
      "b blockchain\n",
      "c C\n",
      "d drive\n"
     ]
    },
    {
     "data": {
      "text/plain": [
       "{'b': 'blockchain', 'c': 'C', 'd': 'drive'}"
      ]
     },
     "execution_count": 23,
     "metadata": {},
     "output_type": "execute_result"
    }
   ],
   "source": [
    "#delete different dictionary elements\n",
    "dic={\n",
    "    'a': 'app',\n",
    "    'b': 'blockchain',\n",
    "    'c': 'C',\n",
    "    'd': 'drive'\n",
    "    }\n",
    "for e,f in dic.items():\n",
    "    print(e,f)\n",
    "del dic['a']\n",
    "dic\n",
    "    "
   ]
  }
 ],
 "metadata": {
  "kernelspec": {
   "display_name": "Python 3",
   "language": "python",
   "name": "python3"
  },
  "language_info": {
   "codemirror_mode": {
    "name": "ipython",
    "version": 3
   },
   "file_extension": ".py",
   "mimetype": "text/x-python",
   "name": "python",
   "nbconvert_exporter": "python",
   "pygments_lexer": "ipython3",
   "version": "3.7.6"
  }
 },
 "nbformat": 4,
 "nbformat_minor": 4
}
